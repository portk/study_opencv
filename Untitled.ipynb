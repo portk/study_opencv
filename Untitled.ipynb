{
 "cells": [
  {
   "cell_type": "code",
   "execution_count": 2,
   "id": "61670ab3-3d11-4fc8-949c-6981e07f6125",
   "metadata": {},
   "outputs": [],
   "source": [
    "import cv2 as cv\n",
    "import numpy as np\n",
    "import matplotlib.pyplot as plt"
   ]
  },
  {
   "cell_type": "code",
   "execution_count": 42,
   "id": "c751b1f1-7fc8-4f87-96c0-9f41262c1f70",
   "metadata": {},
   "outputs": [],
   "source": [
    "cap = cv.VideoCapture(0)\n",
    "\n",
    "cap.set(cv.CAP_PROP_FRAME_WIDTH, 1280)\n",
    "cap.set(cv.CAP_PROP_FRAME_HEIGHT, 720)\n",
    "\n",
    "while True:\n",
    "    ret, frame = cap.read()\n",
    "    if ret == True:\n",
    "        blur = cv.blur(frame,(5,5))\n",
    "        gray = cv.cvtColor(blur, cv.COLOR_BGR2GRAY)\n",
    "        _, thresh = cv.threshold(gray, 40,255, cv.THRESH_BINARY)\n",
    "        res = cv.bitwise_and(frame, frame, mask=thresh)\n",
    "        contours, hierarcy = cv.findContours(thresh, 1, 2)\n",
    "\n",
    "        if len(contours) > 0:\n",
    "            cv.drawContours(res, contours, -1, (255,0,0), 1, cv.LINE_AA)\n",
    "\n",
    "        cv.imshow('frame', res)\n",
    "        k = cv.waitKey(1) & 0xff\n",
    "        if k == 27:\n",
    "            break\n",
    "    else:\n",
    "        break\n",
    "\n",
    "cap.release()\n",
    "cv.destroyAllWindows()"
   ]
  },
  {
   "cell_type": "code",
   "execution_count": 6,
   "id": "67d917bd-4f15-40b6-b140-e737d945acb6",
   "metadata": {},
   "outputs": [
    {
     "data": {
      "text/plain": [
       "151"
      ]
     },
     "execution_count": 6,
     "metadata": {},
     "output_type": "execute_result"
    }
   ],
   "source": [
    "len(contours)"
   ]
  },
  {
   "cell_type": "code",
   "execution_count": null,
   "id": "20653f92-07e2-4d84-821b-a6a2e9ea3c77",
   "metadata": {},
   "outputs": [],
   "source": [
    "# 10, 13"
   ]
  },
  {
   "cell_type": "code",
   "execution_count": 65,
   "id": "48375838-fc02-4944-8c02-2688b9341ca6",
   "metadata": {
    "scrolled": true
   },
   "outputs": [
    {
     "name": "stdout",
     "output_type": "stream",
     "text": [
      "13\n",
      "36\n",
      "39\n",
      "40\n",
      "49\n",
      "50\n",
      "51\n",
      "52\n",
      "56\n",
      "57\n",
      "58\n",
      "61\n",
      "62\n",
      "63\n",
      "66\n",
      "68\n",
      "69\n",
      "70\n",
      "71\n",
      "72\n",
      "76\n",
      "77\n",
      "85\n",
      "86\n",
      "91\n",
      "97\n",
      "98\n",
      "99\n",
      "105\n",
      "115\n",
      "116\n",
      "125\n",
      "126\n",
      "129\n",
      "140\n",
      "141\n",
      "143\n",
      "147\n",
      "152\n",
      "155\n",
      "156\n",
      "157\n",
      "171\n",
      "172\n",
      "173\n",
      "176\n",
      "178\n",
      "180\n",
      "183\n",
      "184\n",
      "185\n",
      "187\n",
      "188\n",
      "190\n",
      "196\n",
      "197\n",
      "200\n",
      "201\n",
      "203\n",
      "205\n",
      "209\n",
      "210\n",
      "212\n",
      "215\n",
      "216\n",
      "217\n",
      "219\n",
      "220\n",
      "227\n",
      "233\n",
      "234\n",
      "236\n",
      "239\n",
      "240\n",
      "247\n",
      "248\n",
      "249\n",
      "250\n",
      "251\n",
      "252\n",
      "253\n",
      "255\n",
      "256\n",
      "260\n",
      "261\n",
      "262\n",
      "266\n",
      "267\n",
      "268\n",
      "269\n",
      "270\n",
      "271\n",
      "274\n",
      "275\n",
      "278\n",
      "281\n",
      "282\n",
      "286\n",
      "287\n",
      "290\n",
      "291\n",
      "294\n",
      "296\n",
      "297\n",
      "299\n",
      "300\n",
      "306\n",
      "308\n",
      "309\n",
      "310\n",
      "311\n",
      "312\n",
      "314\n",
      "320\n",
      "323\n",
      "324\n",
      "326\n",
      "327\n",
      "328\n",
      "330\n",
      "332\n",
      "334\n",
      "335\n",
      "339\n",
      "343\n"
     ]
    }
   ],
   "source": [
    "for i in range(len(contours)):\n",
    "    cnt = contours[i]\n",
    "    if cv.isContourConvex(cnt):\n",
    "        print(i)"
   ]
  },
  {
   "cell_type": "code",
   "execution_count": null,
   "id": "53f422b9-b3b6-4064-8cee-d36713bc69c1",
   "metadata": {},
   "outputs": [],
   "source": []
  }
 ],
 "metadata": {
  "kernelspec": {
   "display_name": "Python 3 (ipykernel)",
   "language": "python",
   "name": "python3"
  },
  "language_info": {
   "codemirror_mode": {
    "name": "ipython",
    "version": 3
   },
   "file_extension": ".py",
   "mimetype": "text/x-python",
   "name": "python",
   "nbconvert_exporter": "python",
   "pygments_lexer": "ipython3",
   "version": "3.9.18"
  }
 },
 "nbformat": 4,
 "nbformat_minor": 5
}
