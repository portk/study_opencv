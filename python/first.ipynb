{
 "cells": [
  {
   "cell_type": "markdown",
   "id": "4cd9fb02-0e7a-4bed-8452-b803bf94a2b1",
   "metadata": {},
   "source": [
    "#### 이미지 읽기"
   ]
  },
  {
   "cell_type": "code",
   "execution_count": 1,
   "id": "2f2e09b7-d1c2-437a-9c12-b7f5344d1ce6",
   "metadata": {},
   "outputs": [],
   "source": [
    "import cv2 as cv\n",
    "import sys"
   ]
  },
  {
   "cell_type": "code",
   "execution_count": 2,
   "id": "8b4a4e34-ae3a-4669-838f-f78946b95acf",
   "metadata": {},
   "outputs": [],
   "source": [
    "img = cv.imread(cv.samples.findFile(\"saber.jpg\"))\n",
    "if img is None:\n",
    "    sys.exit(\"Could not read the image.\")\n",
    "cv.imshow(\"Display window\", img)\n",
    "\n",
    "# img save\n",
    "k = cv.waitKey(0)\n",
    "\n",
    "if k == ord(\"s\"):\n",
    "    cv.imwrite(\"saberCopy.jpg\",img)\n",
    "    cv.destroyAllWindows()"
   ]
  },
  {
   "cell_type": "markdown",
   "id": "6bd79baf-739b-4380-b2ad-e13e3f7f4fb5",
   "metadata": {
    "editable": true,
    "slideshow": {
     "slide_type": ""
    },
    "tags": []
   },
   "source": [
    "#### 동영상 읽기"
   ]
  },
  {
   "cell_type": "code",
   "execution_count": 14,
   "id": "04a34c00-2c67-437c-8f53-481addaed755",
   "metadata": {},
   "outputs": [],
   "source": [
    "import numpy as np\n",
    "import cv2 as cv"
   ]
  },
  {
   "cell_type": "code",
   "execution_count": 18,
   "id": "451a51ff-61b8-41c5-8cf0-77535b148bad",
   "metadata": {
    "editable": true,
    "slideshow": {
     "slide_type": ""
    },
    "tags": []
   },
   "outputs": [
    {
     "name": "stdout",
     "output_type": "stream",
     "text": [
      "Can't receive frame (stream end?). Exiting ...\n"
     ]
    }
   ],
   "source": [
    "cap = cv.VideoCapture(\"Lost Ark 2023.12.24 - 17.31.19.04.mp4\")\n",
    "\n",
    "while cap.isOpened():\n",
    "    # Capture frame by frame\n",
    "    ret, frame = cap.read()\n",
    "\n",
    "    # if frame is read correctly ret is True\n",
    "    if not ret:\n",
    "        print(\"Can't receive frame (stream end?). Exiting ...\")\n",
    "        break\n",
    "        \n",
    "    # Our operations on the frame come here\n",
    "    # gray = cv.cvtColor(frame, cv.COLOR_BGR2GRAY)\n",
    "\n",
    "    # Display the resulting frame\n",
    "    # cv.imshow(\"frame\", gray)\n",
    "    cv.imshow(\"frame\", frame)\n",
    "    if cv.waitKey(1) == ord('q'):\n",
    "        break\n",
    "\n",
    "# When everything done, release the capture\n",
    "cap.release()\n",
    "cv.destroyAllWindows()"
   ]
  },
  {
   "cell_type": "markdown",
   "id": "f180cd1a-d02b-477f-99c6-85ee779546f4",
   "metadata": {},
   "source": [
    "#### 동영상 쓰기"
   ]
  },
  {
   "cell_type": "code",
   "execution_count": 10,
   "id": "b883832d-0e7c-40a3-b06f-a67186ccf45d",
   "metadata": {},
   "outputs": [],
   "source": [
    "import numpy as np\n",
    "import cv2 as cv"
   ]
  },
  {
   "cell_type": "code",
   "execution_count": 33,
   "id": "c3ae10e9-a65d-4bac-ac6b-94170f8b0125",
   "metadata": {},
   "outputs": [
    {
     "name": "stdout",
     "output_type": "stream",
     "text": [
      "Can't receive frame (stream end?). Exiting ...\n"
     ]
    }
   ],
   "source": [
    "cap = cv.VideoCapture(\"Lost Ark 2023.12.24 - 17.31.19.04.mp4\")\n",
    "\n",
    "# Define the codec and create VideoWriter object\n",
    "# in Fedora: DIVX, XVID, MJPG, X264, WMV1, WMV2 (XVID is more preferable. MJPG results in high size video. X264 gives very small size video)\n",
    "# in Windows: DIVX (More to be tested and added)\n",
    "# in OSX: MJPG (.mp4), DIVX(.avi), X264(.mkv)\n",
    "fourcc = cv.VideoWriter_fourcc(*\"DIVX\")\n",
    "out = cv.VideoWriter('output.avi', fourcc, 20.0, (frame.shape[1], frame.shape[0]))\n",
    "\n",
    "while cap.isOpened():\n",
    "    ret, frame = cap.read()\n",
    "    if not ret:\n",
    "        print(\"Can't receive frame (stream end?). Exiting ...\")\n",
    "        break\n",
    "    frame = cv.flip(frame, 0)\n",
    "\n",
    "    # write the flipeed frame\n",
    "    out.write(frame)\n",
    "\n",
    "    cv.imshow('frame',frame)\n",
    "    if cv.waitKey(1) == ord('q'):\n",
    "        break\n",
    "\n",
    "# Release everything if job is finished\n",
    "cap.release()\n",
    "out.release()\n",
    "cv.destroyAllWindows()"
   ]
  },
  {
   "cell_type": "markdown",
   "id": "3b5789a7-82d9-40d4-bd6f-697e0c4e6ea4",
   "metadata": {},
   "source": [
    "#### Drawing Functions"
   ]
  },
  {
   "cell_type": "code",
   "execution_count": 3,
   "id": "31d53ac9-e07e-4312-93c2-a241b86f1982",
   "metadata": {},
   "outputs": [],
   "source": [
    "import numpy as np\n",
    "import cv2 as cv"
   ]
  },
  {
   "cell_type": "code",
   "execution_count": 4,
   "id": "ccb4fc8b-c62b-48b5-b10f-4a47e32a3fe4",
   "metadata": {},
   "outputs": [],
   "source": [
    "# Create a black image\n",
    "img = np.zeros((512,512,3), np.uint8)\n",
    "\n",
    "# Draw a diagonal blue line with thickness of 5px\n",
    "# (\"img\", start, end, color, thickness)\n",
    "cv.line(img,(0,0),(511,511),(255,0,0),5)\n",
    "\n",
    "# Draw a green rectangle with outer thickness of 3px\n",
    "# (\"img\", top-left, bottom-right, color, above-thickness)\n",
    "cv.rectangle(img, (384, 0), (510,128), (0,255,0), 3)\n",
    "\n",
    "# Draw a red circle with inner thickness of 1px\n",
    "# (\"img\", center(x,y), radius, color, above-thickness)\n",
    "cv.circle(img, (447,63), 63, (0,0,255), -1)\n",
    "\n",
    "# Draw Ellipse(타원)\n",
    "# (\"img\", center(x,y), axis-length(xLength, yLength), rotation-angle, start-angle(right-end), end-angle(to watch direction),color,thickness)\n",
    "cv.ellipse(img,(256,256),(100,50),0,0,180,(255,0,0),-1)\n",
    "\n",
    "# Draw Polygon\n",
    "pts = np.array([[10,5],[20,30],[70,20],[50,10]], np.int32)\n",
    "pts = pts.reshape((-1,1,2))\n",
    "cv.polylines(img,[pts],True,(0,255,255))\n",
    "\n",
    "# Add Text\n",
    "# (\"img\", text, start-point(bottom-left corner start), Font Type, Font-Scale, color, thickness, lineType)\n",
    "font = cv.FONT_HERSHEY_SIMPLEX\n",
    "cv.putText(img, 'openCV', (10,500), font, 4, (255,255,255), 2, cv.LINE_AA)\n",
    "\n",
    "cv.imshow(\"Display window\", img)\n",
    "\n",
    "if cv.waitKey(0) == ord(\"s\"):\n",
    "    cv.destroyAllWindows()"
   ]
  },
  {
   "cell_type": "markdown",
   "id": "ae5d775e-94f5-4064-a7e7-60a61649a460",
   "metadata": {},
   "source": [
    "#### Mouse Event List"
   ]
  },
  {
   "cell_type": "code",
   "execution_count": 5,
   "id": "d5e8fb00-9f61-46c3-91ac-263c167223ea",
   "metadata": {},
   "outputs": [],
   "source": [
    "import cv2 as cv"
   ]
  },
  {
   "cell_type": "code",
   "execution_count": 6,
   "id": "fc88607b-8496-4052-bb0a-fa9884f8ea04",
   "metadata": {},
   "outputs": [
    {
     "name": "stdout",
     "output_type": "stream",
     "text": [
      "['EVENT_FLAG_ALTKEY', 'EVENT_FLAG_CTRLKEY', 'EVENT_FLAG_LBUTTON', 'EVENT_FLAG_MBUTTON', 'EVENT_FLAG_RBUTTON', 'EVENT_FLAG_SHIFTKEY', 'EVENT_LBUTTONDBLCLK', 'EVENT_LBUTTONDOWN', 'EVENT_LBUTTONUP', 'EVENT_MBUTTONDBLCLK', 'EVENT_MBUTTONDOWN', 'EVENT_MBUTTONUP', 'EVENT_MOUSEHWHEEL', 'EVENT_MOUSEMOVE', 'EVENT_MOUSEWHEEL', 'EVENT_RBUTTONDBLCLK', 'EVENT_RBUTTONDOWN', 'EVENT_RBUTTONUP']\n"
     ]
    }
   ],
   "source": [
    "events = [i for i in dir(cv) if 'EVENT' in i]\n",
    "print(events)"
   ]
  },
  {
   "cell_type": "markdown",
   "id": "1e79262d-acad-450b-87de-602c8fa06e4d",
   "metadata": {},
   "source": [
    "#### Mouse as a Paint"
   ]
  },
  {
   "cell_type": "code",
   "execution_count": 11,
   "id": "f6f60187-79fd-4821-8a32-54c3d76d8e2f",
   "metadata": {},
   "outputs": [],
   "source": [
    "import numpy as np\n",
    "import cv2 as cv"
   ]
  },
  {
   "cell_type": "markdown",
   "id": "72232b99-5646-45ad-a8cc-f2398c408a65",
   "metadata": {
    "jp-MarkdownHeadingCollapsed": true
   },
   "source": [
    "##### Simple Demo"
   ]
  },
  {
   "cell_type": "code",
   "execution_count": 16,
   "id": "443fdc5f-0b46-47df-81ca-8935fc12d4cd",
   "metadata": {},
   "outputs": [],
   "source": [
    "# mouse callback function\n",
    "def draw_circle(event, x, y, flags, param):\n",
    "    if event == cv.EVENT_LBUTTONDBLCLK:\n",
    "        cv.circle(img, (x, y), 100, (255,0,0), -1)"
   ]
  },
  {
   "cell_type": "code",
   "execution_count": 17,
   "id": "6564ed80-1a61-407c-bbd8-6c426106d539",
   "metadata": {},
   "outputs": [],
   "source": [
    "img = np.zeros((512,512,3), np.uint8)\n",
    "cv.namedWindow('image')\n",
    "cv.setMouseCallback('image', draw_circle)\n",
    "\n",
    "while True:\n",
    "    cv.imshow('image', img)\n",
    "    if cv.waitKey(20) & 0xFF == 27:\n",
    "        break\n",
    "cv.destroyAllWindows()"
   ]
  },
  {
   "cell_type": "markdown",
   "id": "994ead97-048e-49be-a185-9b7e03c085d1",
   "metadata": {},
   "source": [
    "##### More Advanced Demo"
   ]
  },
  {
   "cell_type": "code",
   "execution_count": 18,
   "id": "e091c6dc-49d5-432f-98b3-27420cdfaf8e",
   "metadata": {},
   "outputs": [],
   "source": [
    "drawing = False\n",
    "mode = True\n",
    "ix, iy = -1, -1\n",
    "\n",
    "# mouse Callback function\n",
    "def draw_circle(event, x, y, flags, param):\n",
    "    global ix, iy, drawing, mode\n",
    "\n",
    "    if event == cv.EVENT_LBUTTONDOWN:\n",
    "        drawing = True\n",
    "        ix, iy = x, y\n",
    "\n",
    "    elif event == cv.EVENT_MOUSEMOVE:\n",
    "        if drawing == True:\n",
    "            if mode == True:\n",
    "                cv.rectangle(img, (ix, iy), (x,y), (0, 255, 0), -1)\n",
    "            else:\n",
    "                cv.circle(img, (x, y), 5, (0, 0, 255), -1)\n",
    "    elif event == cv.EVENT_LBUTTONUP:\n",
    "        drawing = False\n",
    "        if mode == True:\n",
    "            cv.rectangle(img, (ix, iy), (x, y), (0, 255, 0), -1)\n",
    "        else:\n",
    "            cv.circle(img, (x,y), 5, (0, 0, 255), -1)"
   ]
  },
  {
   "cell_type": "code",
   "execution_count": 20,
   "id": "d713520d-b930-4c48-9994-390e02b29a5f",
   "metadata": {},
   "outputs": [],
   "source": [
    "img = np.zeros((512,512,3), np.uint8)\n",
    "cv.namedWindow('image')\n",
    "cv.setMouseCallback('image', draw_circle)\n",
    "\n",
    "while(1):\n",
    "    cv.imshow('image', img)\n",
    "    k = cv.waitKey(1) & 0xFF\n",
    "    if k == ord('m'):\n",
    "        mode = not mode\n",
    "    elif k == 27:\n",
    "        break\n",
    "\n",
    "cv.destroyAllWindows()"
   ]
  },
  {
   "cell_type": "markdown",
   "id": "7d1870b8-d924-4902-9243-e55b6a3ca622",
   "metadata": {},
   "source": [
    "#### Trackbar as the Color Palette"
   ]
  },
  {
   "cell_type": "code",
   "execution_count": 1,
   "id": "9bbde8fe-d0a8-4d98-a69d-a4650dc7fc89",
   "metadata": {},
   "outputs": [],
   "source": [
    "import numpy as np\n",
    "import cv2 as cv"
   ]
  },
  {
   "cell_type": "code",
   "execution_count": 6,
   "id": "baed1c49-3389-435f-a34f-d5079df6e2ad",
   "metadata": {
    "scrolled": true
   },
   "outputs": [],
   "source": [
    "def nothing(x):\n",
    "    pass\n",
    "\n",
    "# Create a black image, a window\n",
    "img = np.zeros((300,512,3), np.uint8)\n",
    "cv.namedWindow('image')\n",
    "\n",
    "# Create trackbars for color change\n",
    "cv.createTrackbar('R', \"image\", 0, 255, nothing)\n",
    "cv.createTrackbar('G', \"image\", 0, 255, nothing)\n",
    "cv.createTrackbar('B', \"image\", 0, 255, nothing)\n",
    "\n",
    "# Create switch for ON/OFF functionality\n",
    "switch = '0 : OFF \\n1 : ON'\n",
    "cv.createTrackbar(switch, \"image\", 0, 1, nothing)\n",
    "\n",
    "while(1):\n",
    "    cv.imshow(\"image\", img)\n",
    "    k = cv.waitKey(1) & 0xFF\n",
    "    if k == 27:\n",
    "        break\n",
    "\n",
    "    # get current position of four trackbars\n",
    "    r = cv.getTrackbarPos('R', \"image\")\n",
    "    g = cv.getTrackbarPos('G', \"image\")\n",
    "    b = cv.getTrackbarPos('B', \"image\")\n",
    "    s = cv.getTrackbarPos(switch, \"image\")\n",
    "\n",
    "    if s == 0:\n",
    "        img[:] = 0\n",
    "    else:\n",
    "        img[:] = [b,g,r]\n",
    "\n",
    "cv.destroyAllWindows()"
   ]
  },
  {
   "cell_type": "code",
   "execution_count": null,
   "id": "7cb34f7c-6b16-4549-941f-90733f7d472a",
   "metadata": {},
   "outputs": [],
   "source": []
  }
 ],
 "metadata": {
  "kernelspec": {
   "display_name": "Python 3 (ipykernel)",
   "language": "python",
   "name": "python3"
  },
  "language_info": {
   "codemirror_mode": {
    "name": "ipython",
    "version": 3
   },
   "file_extension": ".py",
   "mimetype": "text/x-python",
   "name": "python",
   "nbconvert_exporter": "python",
   "pygments_lexer": "ipython3",
   "version": "3.9.18"
  }
 },
 "nbformat": 4,
 "nbformat_minor": 5
}
