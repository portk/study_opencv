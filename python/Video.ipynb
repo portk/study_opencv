{
 "cells": [
  {
   "cell_type": "code",
   "execution_count": 8,
   "id": "61e87372-9f54-4d61-ac3c-ed3c860e0fad",
   "metadata": {},
   "outputs": [],
   "source": [
    "import cv2 as cv\n",
    "import numpy as np\n",
    "import matplotlib.pyplot as plt"
   ]
  },
  {
   "cell_type": "code",
   "execution_count": 81,
   "id": "84579b02-1c9d-4da8-bf63-b6893c94df59",
   "metadata": {},
   "outputs": [],
   "source": [
    "cap = cv.VideoCapture(0)\n",
    "\n",
    "while 1:\n",
    "    ret, frame = cap.read()\n",
    "\n",
    "    hsv = cv.cvtColor(frame, cv.COLOR_BGR2HSV)\n",
    "\n",
    "    lower = np.array([0,50,50])\n",
    "    upper = np.array([360,255,255])\n",
    "\n",
    "    mask = cv.inRange(hsv, lower, upper)\n",
    "\n",
    "    blur = cv.blur(mask.copy(),(5,5))\n",
    "\n",
    "    res = cv.bitwise_and(frame, frame, mask=blur)\n",
    "    \n",
    "    if not ret:\n",
    "        break\n",
    "        \n",
    "    cv.imshow('res', res)\n",
    "    \n",
    "    k = cv.waitKey(1) & 0xff\n",
    "    \n",
    "    if (k == ord('q')) | (k == 27):\n",
    "        break\n",
    "\n",
    "cap.release()\n",
    "cv.destroyAllWindows()"
   ]
  },
  {
   "cell_type": "code",
   "execution_count": null,
   "id": "438b1fe8-185d-425c-a21c-b5e9f49e7045",
   "metadata": {},
   "outputs": [],
   "source": []
  },
  {
   "cell_type": "code",
   "execution_count": null,
   "id": "4ffe33e1-f23c-4d42-b873-18c2b46671d9",
   "metadata": {},
   "outputs": [],
   "source": []
  }
 ],
 "metadata": {
  "kernelspec": {
   "display_name": "Python 3 (ipykernel)",
   "language": "python",
   "name": "python3"
  },
  "language_info": {
   "codemirror_mode": {
    "name": "ipython",
    "version": 3
   },
   "file_extension": ".py",
   "mimetype": "text/x-python",
   "name": "python",
   "nbconvert_exporter": "python",
   "pygments_lexer": "ipython3",
   "version": "3.9.18"
  }
 },
 "nbformat": 4,
 "nbformat_minor": 5
}
